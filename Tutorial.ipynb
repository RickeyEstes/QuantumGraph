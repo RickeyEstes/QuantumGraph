{
 "cells": [
  {
   "cell_type": "markdown",
   "metadata": {},
   "source": [
    "# Using QuantumGraph\n",
    "\n",
    "The `quantumgraph` package is designed to help build quantum software using an approach that is different from the one you'll learn in textbooks. Here we'll look into the basics of how it works."
   ]
  },
  {
   "cell_type": "markdown",
   "metadata": {},
   "source": [
    "## Setting up\n",
    "\n",
    "The first step is to install `quantumgraph`. You'll also need to install the `pairwise_tomography` package, which is a vital dependency.\n",
    "\n",
    "This can be done by pip installing directly from the repositories. This is usually done with the command line, but you can do it in Jupyter notebooks too. The syntax for Jupyter notebooks is as follows."
   ]
  },
  {
   "cell_type": "code",
   "execution_count": 1,
   "metadata": {
    "scrolled": false
   },
   "outputs": [],
   "source": [
    "!pip install git+https://github.com/if-quantum/pairwise-tomography.git\n",
    "!pip install git+https://github.com/qiskit-community/QuantumGraph.git"
   ]
  },
  {
   "cell_type": "markdown",
   "metadata": {},
   "source": [
    "With these things installed, you will need to import the class in which all the magic happens."
   ]
  },
  {
   "cell_type": "code",
   "execution_count": 2,
   "metadata": {},
   "outputs": [
    {
     "name": "stdout",
     "output_type": "stream",
     "text": [
      "An IBMQ account could not be loaded\n"
     ]
    }
   ],
   "source": [
    "from quantumgraph import QuantumGraph"
   ]
  },
  {
   "cell_type": "markdown",
   "metadata": {},
   "source": [
    "## Initializing the variables\n",
    "\n",
    "Computing is all about encoding information in variables, and then manipulating these variables. So to start we need to understand what variables we will use and how to set them up.\n",
    "\n",
    "The variables in `QuantumGraph` are associated with a set of qubits. We begin by creating a `QuantumGraph` object to hold our qubits. In the example below, we do it for a set of four qubits."
   ]
  },
  {
   "cell_type": "code",
   "execution_count": 3,
   "metadata": {},
   "outputs": [],
   "source": [
    "n = 4\n",
    "qubits = QuantumGraph(n)"
   ]
  },
  {
   "cell_type": "markdown",
   "metadata": {},
   "source": [
    "For each qubit we have three variables, $\\langle X \\rangle$ , $\\langle Y \\rangle$ and $\\langle Z \\rangle$. These are all numbers in the range between $+1$ and $-1$, and they satisfy\n",
    "\n",
    "$$\n",
    "\\langle X \\rangle^2 + \\langle Y \\rangle^2 + \\langle Z \\rangle^2 \\leq 1.\n",
    "$$\n",
    "\n",
    "These values for a qubit `j` can be accessed as a dictionary using the `get_bloch()` method. Here it is in use."
   ]
  },
  {
   "cell_type": "code",
   "execution_count": 4,
   "metadata": {},
   "outputs": [
    {
     "name": "stdout",
     "output_type": "stream",
     "text": [
      "Single qubit variables for qubit 0:\n",
      "{'X': 0.0015462239583333322, 'Y': 0.016438802083333332, 'Z': 1.0}\n",
      "\n",
      "Single qubit variables for qubit 1:\n",
      "{'X': -0.013834635416666668, 'Y': 0.011393229166666668, 'Z': 1.0}\n",
      "\n",
      "Single qubit variables for qubit 2:\n",
      "{'X': 0.022379557291666668, 'Y': 0.006998697916666667, 'Z': 1.0}\n",
      "\n",
      "Single qubit variables for qubit 3:\n",
      "{'X': 0.009440104166666666, 'Y': -0.0020345052083333335, 'Z': 1.0}\n",
      "\n"
     ]
    }
   ],
   "source": [
    "for j in range(n):\n",
    "    print('Single qubit variables for qubit ' + str(j) + ':')\n",
    "    print(qubits.get_bloch(j))\n",
    "    print()"
   ]
  },
  {
   "cell_type": "markdown",
   "metadata": {},
   "source": [
    "For each possible pair of qubits $j$ and $k$, we have a whole bunch of variables: $\\langle X_j X_k \\rangle$, $\\langle X_j Y_k \\rangle$, $\\langle X_j Z_k \\rangle$, $\\langle Y_j X_k \\rangle$, $\\langle Y_j Y_k \\rangle$, etc. For a fairly in-depth explation of these, see [this paper](https://arxiv.org/abs/2005.10327).\n",
    "\n",
    "For now it is sufficient to note these variables are initially completely dependent on the single qubit variables. For example\n",
    "\n",
    "$$\n",
    "\\langle X_j Y_k \\rangle = \\langle X_j \\rangle \\langle Y_k \\rangle.\n",
    "$$\n",
    "\n",
    "They can begin to do different things as a computation proceeds, but they'll always satisfy\n",
    "\n",
    "$$\n",
    "\\langle X_j Y_k \\rangle^2 \\geq \\left( \\langle X_j \\rangle \\langle Y_k \\rangle \\right)^2\n",
    "$$\n",
    "\n",
    "These values for a pair of qubits `j` and `k` can be similarly accessed using the `get_relationship()` method."
   ]
  },
  {
   "cell_type": "code",
   "execution_count": 5,
   "metadata": {},
   "outputs": [
    {
     "name": "stdout",
     "output_type": "stream",
     "text": [
      "Two qubit variables for qubits 0 and 1:\n",
      "{'XX': -0.023193359375, 'XY': -0.00732421875, 'XZ': 0.013427734375, 'YX': -0.000244140625, 'YY': -0.000732421875, 'YZ': 0.01318359375, 'ZX': -0.014404296875, 'ZY': 0.015380859375, 'ZZ': 1.0}\n",
      "\n",
      "Two qubit variables for qubits 0 and 2:\n",
      "{'XX': 0.01416015625, 'XY': 0.002197265625, 'XZ': -0.02734375, 'YX': -0.010498046875, 'YY': -0.0078125, 'YZ': 0.011474609375, 'ZX': 0.027099609375, 'ZY': 0.0029296875, 'ZZ': 1.0}\n",
      "\n",
      "Two qubit variables for qubits 0 and 3:\n",
      "{'XX': 0.006103515625, 'XY': 0.009033203125, 'XZ': 0.0185546875, 'YX': -0.01220703125, 'YY': 0.002685546875, 'YZ': 0.024658203125, 'ZX': 0.01220703125, 'ZY': -0.007568359375, 'ZZ': 1.0}\n",
      "\n",
      "Two qubit variables for qubits 1 and 2:\n",
      "{'XX': -0.013916015625, 'XY': -0.002685546875, 'XZ': -0.0126953125, 'YX': -0.013671875, 'YY': 0.018310546875, 'YZ': 0.00341796875, 'ZX': 0.012939453125, 'ZY': 0.01513671875, 'ZZ': 1.0}\n",
      "\n",
      "Two qubit variables for qubits 1 and 3:\n",
      "{'XX': 0.0224609375, 'XY': 0.00537109375, 'XZ': -0.014404296875, 'YX': 0.01123046875, 'YY': 0.013671875, 'YZ': 0.015380859375, 'ZX': 0.01123046875, 'ZY': -0.0029296875, 'ZZ': 1.0}\n",
      "\n",
      "Two qubit variables for qubits 2 and 3:\n",
      "{'XX': -0.008544921875, 'XY': 0.002685546875, 'XZ': 0.027099609375, 'YX': -0.0068359375, 'YY': 0.001708984375, 'YZ': 0.0029296875, 'ZX': 0.0048828125, 'ZY': 0.00439453125, 'ZZ': 1.0}\n",
      "\n"
     ]
    }
   ],
   "source": [
    "for j in range(n-1):\n",
    "    for k in range(j+1,n):\n",
    "        print('Two qubit variables for qubits ' + str(j) + ' and '  + str(k) + ':')\n",
    "        print(qubits.get_relationship(j,k))\n",
    "        print()"
   ]
  },
  {
   "cell_type": "markdown",
   "metadata": {},
   "source": [
    "The results we see above show us that we are in the standard $|000\\rangle$ initial state, for which\n",
    "\n",
    "$$\\langle Z_j \\rangle = \\langle Z_j Z_k \\rangle = 1 \\,\\,\\,\\, \\forall j,k$$\n",
    "\n",
    "All variables involving $X$ and $Y$ are zero. Any deviations from this seen above are due to the fact that the expectation values are statistically calculated."
   ]
  },
  {
   "cell_type": "markdown",
   "metadata": {},
   "source": [
    "## Manipulating qubits\n",
    "\n",
    "The qubits can be manipulated using normal quantum gates. For this we can directly manipulate the quantum circuit for the qubits, which can be accessed through the attribute `qc`. Since `QuantumGraph` is built on Qiskit, this circuit is a Qiskit `QuantumCircuit` object."
   ]
  },
  {
   "cell_type": "code",
   "execution_count": 6,
   "metadata": {},
   "outputs": [
    {
     "data": {
      "image/png": "[encoded data removed]",
      "text/plain": [
       "<Figure size 238.392x264.88 with 1 Axes>"
      ]
     },
     "execution_count": 6,
     "metadata": {},
     "output_type": "execute_result"
    }
   ],
   "source": [
    "qubits.qc.h(0)\n",
    "qubits.qc.draw(output='mpl')"
   ]
  },
  {
   "cell_type": "markdown",
   "metadata": {},
   "source": [
    "Here we applied an `h` gate to qubit 0. However, if we look at the state of this qubit we will find that it has not changed."
   ]
  },
  {
   "cell_type": "code",
   "execution_count": 7,
   "metadata": {},
   "outputs": [
    {
     "data": {
      "text/plain": [
       "{'X': 0.0015462239583333322, 'Y': 0.016438802083333332, 'Z': 1.0}"
      ]
     },
     "execution_count": 7,
     "metadata": {},
     "output_type": "execute_result"
    }
   ],
   "source": [
    "qubits.get_bloch(0)"
   ]
  },
  {
   "cell_type": "markdown",
   "metadata": {},
   "source": [
    "This is because we actually have to run the circuit in order to update the tomography. This is done using the `update_tomography()` method."
   ]
  },
  {
   "cell_type": "code",
   "execution_count": 8,
   "metadata": {},
   "outputs": [
    {
     "name": "stdout",
     "output_type": "stream",
     "text": [
      "{'X': 1.0, 'Y': -0.0009765625, 'Z': -0.0009765625}\n"
     ]
    }
   ],
   "source": [
    "qubits.update_tomography()\n",
    "print(qubits.get_bloch(0))"
   ]
  },
  {
   "cell_type": "markdown",
   "metadata": {},
   "source": [
    "Now we have $\\langle X \\rangle = 1$ for qubit 0. If you know what an `h` does, this shouldn't come as a surprise (if you didn't know, then now do!)."
   ]
  },
  {
   "cell_type": "markdown",
   "metadata": {},
   "source": [
    "Another way to manipulate the qubits, which is unique to this method, is to give target values for the variables. This is done using the method `set_bloch()`.\n",
    "\n",
    "For example, to set the state of qubit 1 to $\\langle X \\rangle = 1$ we use"
   ]
  },
  {
   "cell_type": "code",
   "execution_count": 9,
   "metadata": {},
   "outputs": [],
   "source": [
    "qubits.set_bloch({'X':1},1)"
   ]
  },
  {
   "cell_type": "markdown",
   "metadata": {},
   "source": [
    "This automatically updates the tomography (unless the keyword `update=False` is added), so we can already verify that it has the correct effect."
   ]
  },
  {
   "cell_type": "code",
   "execution_count": 10,
   "metadata": {},
   "outputs": [
    {
     "name": "stdout",
     "output_type": "stream",
     "text": [
      "{'X': 1.0, 'Y': -0.0027669270833333335, 'Z': 0.0185546875}\n"
     ]
    }
   ],
   "source": [
    "print(qubits.get_bloch(1))"
   ]
  },
  {
   "cell_type": "markdown",
   "metadata": {},
   "source": [
    "The effect was acheived by considering the initial and target tomography, and finding a unitary to get as close to the target as possible."
   ]
  },
  {
   "cell_type": "code",
   "execution_count": 11,
   "metadata": {},
   "outputs": [
    {
     "data": {
      "image/png": "[encoded data removed]",
      "text/plain": [
       "<Figure size 298.592x264.88 with 1 Axes>"
      ]
     },
     "execution_count": 11,
     "metadata": {},
     "output_type": "execute_result"
    }
   ],
   "source": [
    "qubits.qc.draw(output='mpl')"
   ]
  },
  {
   "cell_type": "markdown",
   "metadata": {},
   "source": [
    "It is not as pretty as the off-the-shelf Hadamard gate, but it has the same effect.\n",
    "\n",
    "The target state for the `set_bloch()` method can include multiple values. For example\n"
   ]
  },
  {
   "cell_type": "code",
   "execution_count": 12,
   "metadata": {},
   "outputs": [
    {
     "name": "stdout",
     "output_type": "stream",
     "text": [
      "{'X': 0.7139485677083333, 'Y': -0.000895182291666667, 'Z': 0.7041015625}\n"
     ]
    }
   ],
   "source": [
    "qubits.set_bloch({'X':1, 'Z':1},2)\n",
    "\n",
    "print(qubits.get_bloch(2))"
   ]
  },
  {
   "cell_type": "markdown",
   "metadata": {},
   "source": [
    "Note that it is not actually possible to set both $\\langle X \\rangle$ and $\\langle Z \\rangle$ of a qubit to $1$, so `set_bloch` just does the best that is possible. For all single qubit values that do not appear in the target state, it is assumed that the target is to set them to zero. So the target used here is equivalent to `{'X':1, 'Y':0, 'Z':1,}`.\n",
    "\n",
    "\n",
    "We can perform similar manipulations on pairs of qubits using the `set_relationship` method. Here we do so for qubits 0 and 1."
   ]
  },
  {
   "cell_type": "code",
   "execution_count": 13,
   "metadata": {},
   "outputs": [
    {
     "name": "stdout",
     "output_type": "stream",
     "text": [
      "{'XX': 1.0, 'XY': -0.00048828125, 'XZ': 0.011962890625, 'YX': -0.001220703125, 'YY': -1.0, 'YZ': -0.024658203125, 'ZX': -0.001708984375, 'ZY': -0.0087890625, 'ZZ': 0.999755859375}\n"
     ]
    }
   ],
   "source": [
    "qubits.set_relationship( {'ZZ':1}, 0,1 )\n",
    "\n",
    "print(qubits.get_relationship(0,1))"
   ]
  },
  {
   "cell_type": "markdown",
   "metadata": {},
   "source": [
    "Unlike `set_bloch`, it is not assumed that values not present in the target should be set to zero. Instead, it is assumed that they should be changed as little as possible.\n",
    "\n",
    "In the example above, the target is to set $\\langle Z_0 Z_1 \\rangle = 1$. Note that the state already has $\\langle X_0 \\rangle = \\langle X_0 \\rangle = 1$, and therefore $\\langle X_0 X_1 \\rangle = 1$, from the single qubit manipulations we have already performed. Since $Z_0 Z_1$ and $X_0 X_1$ commute, it is possible to satisfy the target condition on $\\langle Z_0 Z_1 \\rangle$ while maintaining the value of $\\langle X_0 X_1 \\rangle$. It is because of this that we end up with a state with $\\langle X_0 X_1 \\rangle = \\langle Z_0 Z_1 \\rangle = 1$.\n",
    "\n",
    "We can also use `set_relationship()` with multiple values in the target. However, unlike for `set_bloch()`, all the corresponding Paulis must commute to get a well defined effect. For example, for qubits 2 and 3."
   ]
  },
  {
   "cell_type": "code",
   "execution_count": 14,
   "metadata": {},
   "outputs": [
    {
     "name": "stdout",
     "output_type": "stream",
     "text": [
      "{'XX': 0.00048828125, 'XY': 0.014404296875, 'XZ': 0.999755859375, 'YX': 0.018798828125, 'YY': 0.999755859375, 'YZ': -0.004638671875, 'ZX': 1.0, 'ZY': 0.01806640625, 'ZZ': 0.00341796875}\n"
     ]
    }
   ],
   "source": [
    "qubits.set_relationship( {'XZ':1,'ZX':1}, 2,3 )\n",
    "\n",
    "print(qubits.get_relationship(2,3))"
   ]
  },
  {
   "cell_type": "markdown",
   "metadata": {},
   "source": [
    "Both `set_bloch` and `set_relationship` also have a `fraction` keyword argument. If we use $U$ to denote the unitary that would have been applied normally, setting a value for `fraction` applies $U^{\\mathtt{fraction}}$ instead.\n",
    "\n",
    "Let's get a fresh pair of qubits to see an example of this."
   ]
  },
  {
   "cell_type": "code",
   "execution_count": 15,
   "metadata": {},
   "outputs": [
    {
     "name": "stdout",
     "output_type": "stream",
     "text": [
      "{'XX': -0.0166015625, 'XY': -0.018310546875, 'XZ': 0.00341796875, 'YX': -0.007080078125, 'YY': -0.00341796875, 'YZ': 0.001708984375, 'ZX': 0.027587890625, 'ZY': 0.016845703125, 'ZZ': 1.0}\n"
     ]
    }
   ],
   "source": [
    "qubits = QuantumGraph(2)\n",
    "\n",
    "print(qubits.get_relationship(0,1))"
   ]
  },
  {
   "cell_type": "markdown",
   "metadata": {},
   "source": [
    "Applying `qubits.set_relationship({'XX':1}, 0,1)` would change the state to get $\\langle X_0 X_1 \\rangle = 1$. But let's add in `fraction=0.5` and see what happens."
   ]
  },
  {
   "cell_type": "code",
   "execution_count": 16,
   "metadata": {},
   "outputs": [
    {
     "name": "stdout",
     "output_type": "stream",
     "text": [
      "{'XX': 0.67724609375, 'XY': 0.140869140625, 'XZ': -0.14111328125, 'YX': 0.103515625, 'YY': -0.686279296875, 'YZ': -0.1357421875, 'ZX': 0.19677734375, 'ZY': -0.18701171875, 'ZZ': 0.958984375}\n"
     ]
    }
   ],
   "source": [
    "qubits.set_relationship( {'XX':1}, 0,1, fraction=0.5 )\n",
    "\n",
    "print(qubits.get_relationship(0,1))"
   ]
  },
  {
   "cell_type": "markdown",
   "metadata": {},
   "source": [
    "Here the value has increased $1/\\sqrt{2}$, but not all the way to $1$. In some sense, it is half way there.\n",
    "\n",
    "If we were to apply exactly the same quantum gate operation again, we would get all the way to $\\langle X_0 X_1 \\rangle = 1$. However, note that we cannot do this by simply repeating the same command, since this would generate a new gate which rotates halfway between the current initial state and the target state."
   ]
  },
  {
   "cell_type": "code",
   "execution_count": 17,
   "metadata": {},
   "outputs": [
    {
     "name": "stdout",
     "output_type": "stream",
     "text": [
      "{'XX': 0.900390625, 'XY': -0.0703125, 'XZ': -0.0927734375, 'YX': -0.088134765625, 'YY': -0.8701171875, 'YZ': -0.2451171875, 'ZX': 0.081787109375, 'ZY': -0.27587890625, 'ZZ': 0.955322265625}\n"
     ]
    }
   ],
   "source": [
    "qubits.set_relationship( {'XX':1}, 0,1, fraction=0.5 )\n",
    "\n",
    "print(qubits.get_relationship(0,1))"
   ]
  },
  {
   "cell_type": "markdown",
   "metadata": {},
   "source": [
    "# Creating Algorithms\n",
    "\n",
    "By thinking of terms of these single- and two-qubit variables, and by manipulating them using the methods supplied, we can create algorithms to solve problems.\n",
    "\n",
    "A concrete example of this can be seen in\n",
    "\n",
    "* [\"A quantum procedure for map generation\", by James R. Wootton](https://arxiv.org/abs/2005.10327)\n",
    "\n",
    "where `quantumgraph` is used to implement a rudimentary AI for a Civilization-like game.\n",
    "\n",
    "Another example is\n",
    "\n",
    "* [\"Determining eigenstates and thermal states on a quantum computer using quantum imaginary time evolution\" by Motta, et al.](https://arxiv.org/abs/1901.07653)\n",
    "\n",
    "which is presents a method for calculating ground states for Hamiltonians of interacting particles. It uses the same basic idea as is implemented in `quantumgraph`, but with a $p$-local tomography in general (for finite $p$) and with its own custom methods to set the variables."
   ]
  },
  {
   "cell_type": "code",
   "execution_count": null,
   "metadata": {},
   "outputs": [],
   "source": []
  }
 ],
 "metadata": {
  "kernelspec": {
   "display_name": "Python 3",
   "language": "python",
   "name": "python3"
  },
  "language_info": {
   "codemirror_mode": {
    "name": "ipython",
    "version": 3
   },
   "file_extension": ".py",
   "mimetype": "text/x-python",
   "name": "python",
   "nbconvert_exporter": "python",
   "pygments_lexer": "ipython3",
   "version": "3.7.3"
  }
 },
 "nbformat": 4,
 "nbformat_minor": 4
}
